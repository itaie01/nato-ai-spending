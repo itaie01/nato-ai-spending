{
 "cells": [
  {
   "cell_type": "code",
   "execution_count": 13,
   "metadata": {},
   "outputs": [],
   "source": [
    "from llama_index.core.retrievers import VectorIndexRetriever\n",
    "from llama_index.core import VectorStoreIndex, SimpleDirectoryReader, Settings\n",
    "from llama_index.core.node_parser import SentenceSplitter\n",
    "from llama_index.embeddings.huggingface import HuggingFaceEmbedding\n",
    "from llama_index.llms.ollama import Ollama\n",
    "from openai import OpenAI\n",
    "from IPython.display import display, HTML"
   ]
  },
  {
   "cell_type": "code",
   "execution_count": 14,
   "metadata": {},
   "outputs": [],
   "source": [
    "def visualize(answer):\n",
    "    answer_html = f\"<p>{answer}</p>\".replace(\"\\n\", \"</p><p>\")\n",
    "    in_html = f\"\"\"\n",
    "            <h3>Output:</h3>\n",
    "            {answer_html}\n",
    "            \"\"\"\n",
    "    display(HTML(in_html))"
   ]
  },
  {
   "cell_type": "code",
   "execution_count": 19,
   "metadata": {},
   "outputs": [],
   "source": [
    "Settings.embed_model = HuggingFaceEmbedding(model_name=\"BAAI/bge-base-en-v1.5\")\n",
    "Settings.llm = Ollama(model=\"llama3.1:8b\", request_timeoout=360.0)\n",
    "\n",
    "\n",
    "def get_model_response(prompt):\n",
    "    client = OpenAI(\n",
    "        base_url=\"http://localhost:11434/v1\",\n",
    "        api_key=\"ollama\",  # required, but unused\n",
    "    )\n",
    "    response = client.chat.completions.create(\n",
    "        model=\"llama3.1:8b\",\n",
    "        messages=[{\"role\": \"user\", \"content\": prompt}],\n",
    "        temperature=0,\n",
    "    )\n",
    "    return response.choices[0].message.content"
   ]
  },
  {
   "cell_type": "code",
   "execution_count": 8,
   "metadata": {},
   "outputs": [],
   "source": [
    "# function that takes the report and creates the retriever (with indexes etc.)\n",
    "def createRetriever(REPORT, CHUNK_SIZE, CHUNK_OVERLAP, TOP_K):\n",
    "    \"\"\"Create a relevant paragraph retriever for a document\n",
    "    Args:\n",
    "        REPORT (string): string containing the location of a report\n",
    "        CHUNK_SIZE (int): desired word count of the paragraphs\n",
    "        CHUNK_OVERLAP (int): overlap of the paragraphs\n",
    "        TOP_K (int): number of retrieved paragraphs for a search\n",
    "    Returns:\n",
    "        retriever (object): retriever to retrieve paragraphs\n",
    "    \"\"\"\n",
    "    # load in document\n",
    "    documents = SimpleDirectoryReader(input_files=[REPORT]).load_data()\n",
    "    parser = SentenceSplitter(\n",
    "        chunk_size=CHUNK_SIZE, chunk_overlap=CHUNK_OVERLAP\n",
    "    )  # tries to keep sentences together\n",
    "    nodes = parser.get_nodes_from_documents(documents)\n",
    "\n",
    "    # build indexes\n",
    "    index = VectorStoreIndex(nodes, embed_model=Settings.embed_model)\n",
    "\n",
    "    # configure retriever\n",
    "    retriever = VectorIndexRetriever(\n",
    "        index=index,\n",
    "        similarity_top_k=TOP_K,\n",
    "    )\n",
    "    return retriever\n",
    "\n",
    "\n",
    "def createSources(retriever, query):\n",
    "    \"\"\"Use the retriever to obtain sources\n",
    "    Args:\n",
    "        retriever (object): retriever to retrieve paragraphs\n",
    "        query (string): search string\n",
    "    Returns:\n",
    "        sources_block (string): sources in a structured output\n",
    "    \"\"\"\n",
    "    # Query content\n",
    "    retrieved_nodes = retriever.retrieve(query)\n",
    "    # create the \"sources\" block\n",
    "    sources = []\n",
    "    for i in retrieved_nodes:\n",
    "        page_num = i.metadata[\"page_label\"]\n",
    "        # remove \"\\n\" from the sources\n",
    "        source = i.get_content().replace(\"\\n\", \"\")\n",
    "        sources.append(f\"PAGE {page_num}: {source}\")\n",
    "    sources_block = \"\\n\\n\\n\".join(sources)\n",
    "    return sources_block"
   ]
  },
  {
   "cell_type": "code",
   "execution_count": 9,
   "metadata": {},
   "outputs": [],
   "source": [
    "# TODO: edit this\n",
    "REPORT = \"./other_docs/ai policies 2022 oecd.pdf\"\n",
    "# CHUNK_SIZE (int): desired word count of the paragraphs\n",
    "CHUNK_SIZE = 512\n",
    "\n",
    "# CHUNK_OVERLAP (int): overlap of the paragraphs\n",
    "CHUNK_OVERLAP = 50\n",
    "\n",
    "# TOP_K (int): number of retrieved paragraphs for a search\n",
    "TOP_K = 5\n",
    "\n",
    "# Create retriever (this may take 30 seconds)\n",
    "retriever = createRetriever(REPORT, CHUNK_SIZE, CHUNK_OVERLAP, TOP_K)"
   ]
  },
  {
   "cell_type": "code",
   "execution_count": 10,
   "metadata": {},
   "outputs": [
    {
     "data": {
      "text/html": [
       "\n",
       "            <h3>Output:</h3>\n",
       "            <p>PAGE 18: 18 |        AN OVERVIEW OF NATIO NAL AI STRATEGIES AN D POLICIES ©  OECD  2021        Horizon Europe  Responsible entity: European Commission  Description:  The European Commission has committed EUR 1.5 billion to AI research over two years as part of its Horizon 2020 programme. The European Union expects the  private sector and its member states at the national level to complement this investment, reaching at least EUR 20 billion invested by the end of 2020. It is also expected that the private sector and EU member states will continue investing at least EUR 20 billion annually for the next ten years in AI R&D. Funding through Horizon Europe and the new Digital Europe programme targets AI research, innovation and deployment, and the development o f digital skills.  Support for AI R&D also includes grants to establish centres of excellence. This includes EUR  20 million to build the European Network of AI Excellence Centres (AI4EU), a European online platform that allows the exchange of AI tools and r esources.  Read more: https://www.oecd.ai/dashboards/countries/EuropeanUnion . AI in the public sector  Aurora AI Project  Responsible entity: Finland’s Ministry of Finance  Description:  Aurora AI is a network of different smart services and applications to “allow [the] public administration to better anticipate and provide resources for future service needs” and to allow citizens to access high -quality 24/7 digital services. The project aims to use AI to provide personalised, one- stop-shop and human -centric AI -driven public services.  Read more: https://oecd.ai/dashboards/countries/Finland . Canada’s Directive on Automated Decision -Making Systems and the Pre -qualified AI Vendor Procurement Program  Responsible entity: Canada’s Treasury Board Secretariat  Description:  Canada’s Treasury Board Secretariat (TBS) recognised increased use and experimentation with AI in government, w hich led to the development of a whitepaper entitled ‘Responsible AI in the Government of Canada’ in 2019.</p><p></p><p></p><p>PAGE 24: The Partnership was conceived by Canada and France during their G7 presidencies and, at its launch on 15 June 2020, counted 13 other founding members: Austra lia, the EU , Germany, India, Italy, Japan, Korea, Mexico, New Zealand, Singapore, Slovenia, the United Kingdom and the United States. With its Secretariat hosted at the OECD, the GPAI bring s together experts from industry, government, civil society and aca demia.  GPAI’s mission is to “support the development and use of AI based on human rights, inclusion, diversity, innovation, and economic growth while seeking to address the United Nations Sustainable Development Goals”. Two Centres of Expertise (the Intern ational Centre of Expertise in Montréal for the Advancement of Artificial Intelligence (ICEMAI) in Montréal, and the National</p><p></p><p></p><p>PAGE 19: Read more: https://oecd.ai/dashboards/countries/EuropeanUnion . Fugaku Supercomputer Responsible entity: Japan’s Ministry of Education, Culture, Sports, Science and Technology  Description:  In Japan, the RIKEN Center  for Computational Science in Kobe and Fujitsu is developing a Supercomputer named Fugaku to create outstanding results in various fields such as AI, data science, medicine, climate, space and disaster prevention.  Read m ore: https://oecd.ai/dashboards/countries/Japan .</p><p></p><p></p><p>PAGE 2: 2 |        AN OVERVIEW OF NATIO NAL AI STRATEGIES AN D POLICIES ©  OECD  2021        This Toolkit  note was written by  Laura Galindo, Karine Perset and Francesca Sheeka . It was reviewed by the Committee on Digital Economy Policy (CDEP), and it was declassified by the CDEP on 8 April 2021. The note was prepared for publication by the OECD Secretariat.  This Toolkit  note is a contributi on to the OECD Going Digital project, which aims to provide policy makers with the tools they need to help their economies and societies thrive in an increasingly digital and data- driven world.  For more information, visit www.oecd.org /going -digital.  #GoingDigital     Please cite this publication as:  Galindo, L.,  K. Perset  and F. Sheeka (2021), \" An overview of national AI strategies and policies \", Going Digital Toolkit Note , No. 14 , https://goingdigital.oecd.org/data/notes/No14_ToolkitNote_AIStrategies.pdf .   Note to Delegations:  This document is also available on O.N.E. under the reference code:  DSTI/CDEP(2020)21/FINAL .    This document, as well as any data and map included herein, are without prejudice to the status of or sovereignty over any territory, to the delimitation of international frontiers and boundaries and to the name of any territory , city or area.  © OECD 2021  You can copy, download or print OECD content for your own use, and you can include excerpts from OECD publications, databases and multimedia products in your own documents, presentations, blogs, websites and teaching materials, provided that suitable acknowledgment of OECD as source and copyright owner is given. All requests for commercial use and translation rights should be submitted to: rights@oecd.org .</p><p></p><p></p><p>PAGE 24: 24 |        AN OVERVIEW OF NATIO NAL AI STRATEGIES AN D POLICIES ©  OECD  2021        The High -Level Expert Group on Artificial Intelligence (AI HLEG)  Responsible entity : European Commission (EC)  Descriptio n: The High -Level Expert Group on Artificial Intelligence (AI HLEG) was convened by the European Commission in 2016 to support the implementation of the European Strategy on AI and completed its mandate in July 2020. The AI HLEG comprised representatives from academia, civil society, and industry that produced three outputs: the April 2019 Ethics Guidelines for Trustworthy Artificial Intelligence, the June 2019 Policy and Investment Recommendations for Trustworthy Artifici al Intelligence, and the July 2020 Assessment List for Trustworthy Artificial Intelligence (ALTAI). The European AI Alliance is a multi- stakeholder forum for engaging in a broad and open discussion of all aspects of AI development and its impact on the eco nomy and society.  In February 2020, the European Commission issued a “White Paper on Artificial Intelligence” – A European Approach to Excellence and Trust. The paper considers requiring a pre -marketing conformity assessment for “high -risk” AI applications  such as facial recognition, as a core element of a potential regulatory framework for AI.  In addition, the white paper proposes a voluntary “quality label” for AI applications considered not to be high -risk. In parallel, the European Commission is review ing EU product safety and liability regimes in light of AI.  Read more:  https://ec.europa.eu/digital -single -market/en/artificial -intelligence . Global Partnership on AI  (GPAI)  Responsible entity : Consortium of countries  Description : GPAI is an international and multi -stakeholder initiative that advances cutting -edge research and pilot projects on AI priorities to advance the responsible development and use of AI that res pects human rights and shared democratic values, as elaborated in the OECD’s Recommendation on AI.</p>\n",
       "            "
      ],
      "text/plain": [
       "<IPython.core.display.HTML object>"
      ]
     },
     "metadata": {},
     "output_type": "display_data"
    }
   ],
   "source": [
    "question = \"Does the company report its GHG emission reduction interim targets for achieving the overall goal?\"\n",
    "sources = createSources(retriever, question)\n",
    "visualize(sources)"
   ]
  },
  {
   "cell_type": "code",
   "execution_count": 17,
   "metadata": {},
   "outputs": [],
   "source": [
    "prompt_template = f\"\"\"\n",
    "{sources}\n",
    "\n",
    "{question}\n",
    "\"\"\"\n",
    "\n",
    "prompt_template = f\"\"\"You are a senior sustainability analyst with expertise in climate science evaluating a company’s climate-related transition plan and\n",
    "strategy.\n",
    "This is basic information to the company: Volkswagen Group is a large German-based international automobile manufacturer known for making high-quality luxury vehicles.\n",
    "You are presented with the following sources from the company’s report:\n",
    "--------------------- [BEGIN OF SOURCES]\\n {sources}\\n\n",
    "--------------------- [END OF SOURCES]\\n\n",
    "Given the source information and no prior knowledge, your main task is to respond to the posed question encapsulated in \"||\".\n",
    "Question: ||{question}||\n",
    "Please enforce the following guidelines in your answer:\n",
    "1. Your response must be precise , thorough , and grounded on specific extracts from the report\n",
    "to verify its authenticity.\n",
    "2. If you are unsure, simply acknowledge the lack\n",
    "of knowledge , rather than fabricating an\n",
    "answer.\n",
    "3. Keep your ANSWER within 200 words.\n",
    "4. Be skeptical to the information disclosed in\n",
    "the report as there might be greenwashing ( exaggerating the firm’s environmental responsibility). Always answer in a critical tone.\n",
    "5. Cheap talks are statements that are costless to make and may not necessarily reflect the\n",
    "true intentions or future actions of the company. Be critical for all cheap talks you discovered in the report.\n",
    "6. Always acknowledge that the information provided is representing the company’s view based on its report.\n",
    "7. Scrutinize whether the report is grounded in quantifiable , concrete data or vague , unverifiable statements , and communicate your\n",
    "findings.\n",
    "8. Start your answer with a \"[[YES]]\"\" or \"\"[[NO]]\n",
    "\"\" depending on whether you would answer the question with a yes or no. Always compliment your judgment on yes or no with a short explanation that summarizes the sources in an\n",
    "informative way, i.e. provide details.\n",
    "Format your answer in JSON format with the two keys: ANSWER (this should contain your answer\n",
    "string without sources), and SOURCES (this should be a list of the SOURCE numbers that were referenced in your answer).\n",
    "Your FINAL_ANSWER in JSON (ensure there’s no format error):\n",
    "\"\"\""
   ]
  },
  {
   "cell_type": "code",
   "execution_count": 20,
   "metadata": {},
   "outputs": [
    {
     "data": {
      "text/html": [
       "\n",
       "            <h3>Output:</h3>\n",
       "            <p>[[NO]]</p><p>ANSWER: The company's report does not explicitly mention GHG emission reduction interim targets for achieving its overall goal. While it provides information on national AI strategies and policies, there is no direct reference to the company's climate-related transition plan or strategy.</p><p></p><p>SOURCES:</p><p>- PAGE 18 (no relevant information found)</p><p>- PAGE 24 (no relevant information found)</p><p>- PAGE 24 (The High-Level Expert Group on Artificial Intelligence (AI HLEG) was convened by the European Commission in 2016, but this is not related to the company's GHG emission reduction targets.)</p><p>- PAGE 24 (Global Partnership on AI (GPAI) is an international and multi-stakeholder initiative that advances cutting-edge research and pilot projects on AI priorities, but this does not relate to the company's GHG emission reduction targets.)</p>\n",
       "            "
      ],
      "text/plain": [
       "<IPython.core.display.HTML object>"
      ]
     },
     "metadata": {},
     "output_type": "display_data"
    }
   ],
   "source": [
    "answer = get_model_response(prompt_template)\n",
    "visualize(answer)"
   ]
  }
 ],
 "metadata": {
  "kernelspec": {
   "display_name": "base",
   "language": "python",
   "name": "python3"
  },
  "language_info": {
   "codemirror_mode": {
    "name": "ipython",
    "version": 3
   },
   "file_extension": ".py",
   "mimetype": "text/x-python",
   "name": "python",
   "nbconvert_exporter": "python",
   "pygments_lexer": "ipython3",
   "version": "3.10.13"
  }
 },
 "nbformat": 4,
 "nbformat_minor": 2
}
