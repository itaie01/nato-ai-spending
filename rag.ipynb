{
 "cells": [
  {
   "cell_type": "markdown",
   "metadata": {},
   "outputs": [],
   "source": [
    "code inspired by and modelled after CCAI retrieval augmented generation tutorial"
   ]
  },
  {
   "cell_type": "code",
   "execution_count": 22,
   "metadata": {},
   "outputs": [],
   "source": [
    "from llama_index.core.retrievers import VectorIndexRetriever\n",
    "from llama_index.core import VectorStoreIndex, SimpleDirectoryReader, Settings\n",
    "from llama_index.core.node_parser import SentenceSplitter\n",
    "from llama_index.embeddings.huggingface import HuggingFaceEmbedding\n",
    "from llama_index.llms.ollama import Ollama\n",
    "from openai import OpenAI\n",
    "from IPython.display import display, HTML\n",
    "import glob\n",
    "import os"
   ]
  },
  {
   "cell_type": "code",
   "execution_count": 14,
   "metadata": {},
   "outputs": [],
   "source": [
    "def visualize(answer):\n",
    "    answer_html = f\"<p>{answer}</p>\".replace(\"\\n\", \"</p><p>\")\n",
    "    in_html = f\"\"\"\n",
    "            <h3>Output:</h3>\n",
    "            {answer_html}\n",
    "            \"\"\"\n",
    "    display(HTML(in_html))"
   ]
  },
  {
   "cell_type": "code",
   "execution_count": 19,
   "metadata": {},
   "outputs": [],
   "source": [
    "Settings.embed_model = HuggingFaceEmbedding(model_name=\"BAAI/bge-base-en-v1.5\")\n",
    "Settings.llm = Ollama(model=\"llama3.1:8b\", request_timeoout=360.0)\n",
    "\n",
    "\n",
    "def get_model_response(prompt):\n",
    "    client = OpenAI(\n",
    "        base_url=\"http://localhost:11434/v1\",\n",
    "        api_key=\"ollama\",  # required, but unused\n",
    "    )\n",
    "    response = client.chat.completions.create(\n",
    "        model=\"llama3.1:8b\",\n",
    "        messages=[{\"role\": \"user\", \"content\": prompt}],\n",
    "        temperature=0,\n",
    "    )\n",
    "    return response.choices[0].message.content"
   ]
  },
  {
   "cell_type": "code",
   "execution_count": 26,
   "metadata": {},
   "outputs": [],
   "source": [
    "# function that takes the report and creates the retriever (with indexes etc.)\n",
    "def createRetriever(REPORT, CHUNK_SIZE, CHUNK_OVERLAP, TOP_K):\n",
    "    \"\"\"Create a relevant paragraph retriever for a document\n",
    "    Args:\n",
    "        REPORT (string): string containing the location of a report\n",
    "        CHUNK_SIZE (int): desired word count of the paragraphs\n",
    "        CHUNK_OVERLAP (int): overlap of the paragraphs\n",
    "        TOP_K (int): number of retrieved paragraphs for a search\n",
    "    Returns:\n",
    "        retriever (object): retriever to retrieve paragraphs\n",
    "    \"\"\"\n",
    "    # load in document\n",
    "    documents = SimpleDirectoryReader(input_files=REPORT).load_data()\n",
    "    parser = SentenceSplitter(\n",
    "        chunk_size=CHUNK_SIZE, chunk_overlap=CHUNK_OVERLAP\n",
    "    )  # tries to keep sentences together\n",
    "    nodes = parser.get_nodes_from_documents(documents)\n",
    "\n",
    "    # build indexes\n",
    "    index = VectorStoreIndex(nodes, embed_model=Settings.embed_model)\n",
    "\n",
    "    # configure retriever\n",
    "    retriever = VectorIndexRetriever(\n",
    "        index=index,\n",
    "        similarity_top_k=TOP_K,\n",
    "    )\n",
    "    return retriever\n",
    "\n",
    "\n",
    "def createSources(retriever, query):\n",
    "    \"\"\"Use the retriever to obtain sources\n",
    "    Args:\n",
    "        retriever (object): retriever to retrieve paragraphs\n",
    "        query (string): search string\n",
    "    Returns:\n",
    "        sources_block (string): sources in a structured output\n",
    "    \"\"\"\n",
    "    # Query content\n",
    "    retrieved_nodes = retriever.retrieve(query)\n",
    "    # create the \"sources\" block\n",
    "    sources = []\n",
    "    for i in retrieved_nodes:\n",
    "        page_num = i.metadata[\"page_label\"]\n",
    "        # remove \"\\n\" from the sources\n",
    "        source = i.get_content().replace(\"\\n\", \"\")\n",
    "        sources.append(f\"PAGE {page_num}: {source}\")\n",
    "    sources_block = \"\\n\\n\\n\".join(sources)\n",
    "    return sources_block"
   ]
  },
  {
   "cell_type": "code",
   "execution_count": 38,
   "metadata": {},
   "outputs": [
    {
     "name": "stderr",
     "output_type": "stream",
     "text": [
      "Ignoring wrong pointing object 9 0 (offset 0)\n",
      "Ignoring wrong pointing object 25 0 (offset 0)\n",
      "Ignoring wrong pointing object 11 0 (offset 0)\n",
      "Ignoring wrong pointing object 26 0 (offset 0)\n",
      "Ignoring wrong pointing object 31 0 (offset 0)\n",
      "Ignoring wrong pointing object 9 0 (offset 0)\n",
      "Ignoring wrong pointing object 12 0 (offset 0)\n",
      "Ignoring wrong pointing object 53 0 (offset 0)\n",
      "Ignoring wrong pointing object 58 0 (offset 0)\n",
      "Ignoring wrong pointing object 152 0 (offset 0)\n"
     ]
    }
   ],
   "source": [
    "pdfs = glob.glob(os.getcwd() + \"/other_docs/\" + \"*.pdf\")\n",
    "# REPORT = \"./other_docs/ai policies 2022 oecd.pdf\"\n",
    "# CHUNK_SIZE (int): desired word count of the paragraphs\n",
    "CHUNK_SIZE = 512\n",
    "\n",
    "# CHUNK_OVERLAP (int): overlap of the paragraphs\n",
    "CHUNK_OVERLAP = 50\n",
    "\n",
    "# TOP_K (int): number of retrieved paragraphs for a search\n",
    "TOP_K = 10\n",
    "\n",
    "# Create retriever (this may take 30 seconds)\n",
    "retriever = createRetriever(pdfs, CHUNK_SIZE, CHUNK_OVERLAP, TOP_K)"
   ]
  },
  {
   "cell_type": "code",
   "execution_count": null,
   "metadata": {},
   "outputs": [
    {
     "data": {
      "text/html": [
       "\n",
       "            <h3>Output:</h3>\n",
       "            <p>PAGE 11: World Wars initiated theapplication of AI in the defense sector, but it started pro-gressing in situations like the above.Increased investments in uninhabited ground vehicles(UGV)liketheRussianPlatform-MandAWSliketheMQ-9Reaper (Figure 11(a)) resulted from these advancements. InInternationalJournalofIntelligentSystems 11 ijis, 2023, 1, Downloaded from https://onlinelibrary.wiley.com/doi/10.1155/2023/8676366 by Mcgill University, Wiley Online Library on [17/07/2024]. See the Terms and Conditions (https://onlinelibrary.wiley.com/terms-and-conditions) on Wiley Online Library for rules of use; OA articles are governed by the applicable Creative Commons License</p><p></p><p></p><p>PAGE 3: 13 Boulanin, V. et al., Responsible Military Use of Artificial Intelligence: Can the European Union Lead the Way in Developing Best Practice? , SIPRI Report (SIPRI: Stockholm, Nov. 2020). 14 Horowitz, M. C., ‘Do emerging military technologies matter for international politics?’, Annual Review of Political Science , vol. 23 (May 2020); and Gilli, A. and Gilli, M., ‘Why China has not caught up yet: Military-technological superiority and the limits of imitation, reverse engineering, and cyber espionage’, International Security, vol. 43, no. 3 (2018/19). 15 Hoijtink, M. and Leese, M. (eds), Technology and Agency in International Relations  (Routledge: Abingdon/New York, 2019). II. RESEARCH AND DEVELOPMENT TRENDS IN AI-ENABLED DEFENCEFor the past two decades, there has been a growing global belief among major powers such as the USA and China that more autonomous weapon systems, which are seen as the culmination of algorithmic war, are needed to mitigate the impact of AI-enabled warfighting on human cognition, speed of reaction and scale of attack.16 In line with a circular logic, they promote an imaginary by which the apparent solution to problems generated by the increased automation of weapon systems is to be found in more  AI-enabled autonomous weapon systems.</p><p></p><p></p><p>PAGE 2: 3 (2022).6 Csernatoni, R., ‘The EU’s hegemonic imaginaries: From European strategic autonomy in defence to technological sovereignty’, European Security , vol. 31, no. 3 (2022).making within the EU, rather than become subject to the EU’s supranational leadership.7In recent years, however, the European Commission has expanded its competencies in these fields through market-based and industrial initiatives to shape and bolster the competitiveness and innovation of the European Defence Technological and Industrial Base (EDTIB).8 It has also increasingly linked civilian science, technology and innovation programmes to the emergence of the EU-led security and defence R&D policy areas that benefit from innovation in critical dual-use technologies.9 Against this background, this paper focuses on recent EU plans for AI-enabled security and defence technologies by exploring projects under EU-led financing programmes such as the European Defence Fund (EDF) and its precursor programmes, as well as projects led by the European Defence Agency (EDA).10First, section II examines R&D trends in AI-enabled security and defence initiatives in the EU. Section III then discusses the unmanned swarm systems programmes under the EU’s Pilot Project on Defence Research. Section IV maps AI-related defence research projects under the Preparatory Action on Defence Research (PADR) and section V highlights several defence industrial projects supported by AI as part of the European Defence Industrial Development Programme (EDIDP). Section VI assesses the role of the EDF as a game changer for AI defence technologies. Finally, section VII looks at several AI defence initiatives and applications spearheaded by the EDA, before the paper ends with recommendations and overarching conclusions in sections VIII and IX.</p><p></p><p></p><p>PAGE 2: 11. We realise that due to the distributed nature of military decision making and the complexities of AI systems require us to pay close attention to all stages of development, deployment and use of AI in the military domain. We encourage colla boration between the public and private sector and strive to continue to engage with multip le stakeholders involved in the development, deployment and use of AI in the military domain.    12. We reiterate the importance of ensuring appr opriate safeguards and human oversight of the use of AI systems, bearing in mind human limitatio ns due to constraints in time and capacities.</p><p></p><p></p><p>PAGE 3: 18. We invite states to increase general compre hension of military AI by knowledge-building through research, training courses and capacity-bui lding activities. We encourage states to work together, share knowledge by exchanging good  practices and lessons learnt, building their capacity and involve the private sector, civil society and academia to promote responsible AI in the military domain.</p><p></p><p></p><p>PAGE 1: 1  REAIM Call to Action  Artificial intelligence (AI) is influencing and changing our world fundamentally.   We are aware that AI will drastically impact the future  of military operations, ju st as it impacts the way we work and live. Militaries are increasing their use of AI across a range of applications and contexts.  AI offers great opportunities and has extraordinary potential as an enabling technology, enabling us among other benefits to make powerful use of pr eviously unimaginable qu antities of data and improving decision-making. However, we recognise that  there are also risks inv olved, many of which we cannot foresee to date.   There are concerns worldwide around the use of AI in the military domain and about the potential unreliability of AI systems, the i ssue of human involvement, the lack of clarity with regards to liability and potential unintended consequences, and the risk of unintended escalation within the spectrum of armed force, amongst other potential impacts.  We stress the paramount importance of the responsible use of AI in the military domain, employed in full accordance with international le gal obligations and in a way that does not undermine international security, stability and accountability.  With this Call to Action we invite government s, industry, knowledge in stitutions, international organisations and others to support the following: 1. We acknowledge the potential impact, including opportunities and challenges, as a result of the rapid adoption of AI systems in  the military domain on internat ional security and stability.   2. We recognise the potential of AI applications in the military domain for a wide variety of purposes, at the service of huma nity, including AI applications to reduce the risk of harm to civilians and civilian objects in armed conflicts.   3. We recognise that we do not and cannot fully comprehend and anticipate the implications and challenges resulting from the introduction of AI  across a wide range of applications in the military domain.    4. We see a need to increasing our comprehension of the impact of AI in th e military domain. That includes myth busting as well as improving know ledge and literacy regarding the benefits, risks and limitations of AI in the military domain.</p><p></p><p></p><p>PAGE 27: Tey will probably endure in the real worldas well. Tese AI-related facts must be considered since theythreaten world peace and stability [116, 117]. .ConclusionsTis paper aims to represent the main sectors of utilizationand the possibility of using AI augmentations and AI al-gorithms in the military sector, especially in cybersecurity,InternationalJournalofIntelligentSystems 27 ijis, 2023, 1, Downloaded from https://onlinelibrary.wiley.com/doi/10.1155/2023/8676366 by Mcgill University, Wiley Online Library on [17/07/2024]. See the Terms and Conditions (https://onlinelibrary.wiley.com/terms-and-conditions) on Wiley Online Library for rules of use; OA articles are governed by the applicable Creative Commons License</p><p></p><p></p><p>PAGE 2: 2  5. We recognise the work done by many actors on  responsible development, deployment and use of military AI, including relevant national strategies, AI principles  and internationa l initiatives, and the expertise build-up by different stakeh older groups to effectively respond to the challenges posed by embedding AI in the military domain.   6. We note that AI can be used to shape and impact  decision making, and we will work to ensure that humans remain responsible and accountable for decisions when using AI in the military domain.    7. We recognise the need to assess the risks involv ed in the various types of current and future application of various AI techniques in the militar y domain and the different military contexts in which AI is applied.   8. We recognise that failure to adopt AI in a timely  manner may result in a military disadvantage, while premature adoption withou t sufficient research, testing and assurance may result in inadvertent harm. We see the need to increase the exchange of lessons learnt regarding risk mitigation practices and procedures.   9. We stress the importance of a holistic, inclusiv e and comprehensive approa ch in addressing the possible impacts, opportunities and challenges of  the use of AI in the military domain and the need for all stakeholders, including states, pr ivate sector, civil society and academia, to collaborate and exchange information on re sponsible AI in the military domain.   10. We affirm that data for AI systems should be collected, used, shared, ar chived and deleted, as applicable, in ways that are co nsistent with international law,  as well as relevant national, regional and international legal frameworks and data standards. Adequate data protection and data quality governance mechanis ms should be established and ensured from the early design phase onwards, including in obtaining and using AI training data.   11. We realise that due to the distributed nature of military decision making and the complexities of AI systems require us to pay close attention to all stages of development, deployment and use of AI in the military domain.</p><p></p><p></p><p>PAGE 10: VII. AI INITIATIVES FOR DEFENCE SPEARHEADED BY THE EDAThe EDA has also recognized the need to bring high-tech civilian innovation into defence R&D across the EU. According to the EDA, European armies need to harness new civilian high-tech applications as these have evolved at such speed in the past decade that militaries must now factor ‘innovative resilience’ into their systems.62 This demands agile capabilities that can absorb new technologies throughout their lifecycle, thereby avoiding obsolescence. The EDA states that these EDTs are ‘significantly changing the rules or conduct of conflict within one or two generations’, leading the EU member states’ armed forces to adapt their future planning and long-term goals.63 Further, AI is identified as a key strategic enabler in the EDA’s 62 EDA, ‘ Pushing limits: Defence innovation in a high-tech world ’, European Defence Matters , no. 22 (2021), p. 6.63 EDA, ‘ Driven by global threats, shaped by civil high-tech ’, European Defence Matters , no. 22 (2021). Table 1.  Projects selected from the European Defence Fund 2021 call for proposalsProject abbreviation Project in fullAInception AI framework for improving cyber defence operationsEU-GUARDIAN European framework and proof-of-concept for the intelligent automation of cyber defence incident managementKOIOS Knowledge extraction, machine learning and other artificial intelligence approaches for secure, robust, frugal, resilient and explainable solutions in defence applicationsFaRADAI Frugal and robust AI for defence advanced intelligenceCOMMANDS Convoy operations with manned–unmanned systemsALADAN AI-based language technology development framework for defence applicationsHYBRID Hydrogen battlefield reconnaissance and intelligence droneALTISS Highly automated swarm of affordable ISR long endurance UAVs for force protectionIntSen2 Proactive automatic imagery intelligence powered by artificial intelligence exploiting European space assetsSEAW INGS Sea/air interphasic wing-in-ground effect autonomous dronesAI = artificial intelligence; ISR = intelligence, surveillance and reconnaissance; UAV = unmanned aerial vehicle.</p><p></p><p></p><p>PAGE 3: 3  13. We recognise that military personnel who ut ilise AI should sufficiently understand the characteristics of AI systems, the potential cons equences of the use of these systems, including consequences resulting from any limitations, such as potential biases in data, thus requiring research, education and training on the manner  of user interaction and reliance on the AI systems to avoid an undesirable effect.   14. We promote the exchange of good practices and lessons learnt among states to increase the mutual comprehension of states’ national frameworks and policies with regard to the use of AI in the military domain. We also affirm the impo rtance of sharing good practices and lessons learnt by the private sector on norms, policies, principles and technological expertise.   15. We recognise that the implementation of AI in the military domain differs per state. The responsible use of AI in the military domain requires intern ational and mult i-stakeholder exchange in order for all states, especially  developing countries, to benefit from the opportunities and to address the challenges and risks.  16. We see a need for a continuation of a balanced international and multi-stakeholder discussion on the benefits, dilemmas, risks and challenges ar ising from the use of AI  in the military domain. We invite the international private sector, academia, civil society and other relevant stakeholders to actively contribute to the disc ussions at the multilateral level and promote responsible AI in the military domain.   Our call to action:  17. The technological developments in the area of AI  take place primarily in the civil domain. We therefore acknowledge that the introduction of AI  in the military domain is a multi-stakeholder challenge. We are committed to continuing the g lobal dialogue on respon sible AI in the military domain in a multi-stakeholder a nd inclusive manner and call on all stakeholders to take their responsibility in contributing to internationa l security and stability in accordance with international law.   18. We invite states to increase general compre hension of military AI by knowledge-building through research, training courses and capacity-bui lding activities.</p>\n",
       "            "
      ],
      "text/plain": [
       "<IPython.core.display.HTML object>"
      ]
     },
     "metadata": {},
     "output_type": "display_data"
    }
   ],
   "source": [
    "question = (\n",
    "    \"Does NATO see an overall increase in AI investments for military applications?\"\n",
    ")\n",
    "sources = createSources(retriever, question)\n",
    "visualize(sources)"
   ]
  },
  {
   "cell_type": "code",
   "execution_count": 41,
   "metadata": {},
   "outputs": [],
   "source": [
    "question = \"In what ways are NATO countries increasingly using AI in their militaries?\"\n",
    "\n",
    "prompt_template = f\"\"\"\n",
    "{sources}\n",
    "\n",
    "{question}\n",
    "\"\"\"\n",
    "\n",
    "prompt_template = f\"\"\"You are a NATO policy analyst wuth expertise in AI in the military applications.\n",
    "You are presented with the following sources from various NATO member states:\n",
    "--------------------- [BEGIN OF SOURCES]\\n {sources}\\n\n",
    "--------------------- [END OF SOURCES]\\n\n",
    "Given the source information and no prior knowledge, your main task is to respond to the posed question encapsulated in \"||\".\n",
    "Question: ||{question}||\n",
    "Please enforce the following guidelines in your answer:\n",
    "1. Your response must be precise , thorough , and grounded on specific extracts from the report\n",
    "to verify its authenticity.\n",
    "2. If you are unsure, simply acknowledge the lack\n",
    "of knowledge , rather than fabricating an\n",
    "answer.\n",
    "3. Keep your ANSWER within 200 words.\n",
    "4. Be skeptical to the information disclosed in\n",
    "the report as there might be greenwashing ( exaggerating the firm’s environmental responsibility). Always answer in a critical tone.\n",
    "5. Cheap talks are statements that are costless to make and may not necessarily reflect the\n",
    "true intentions or future actions of the company. Be critical for all cheap talks you discovered in the report.\n",
    "6. Always acknowledge that the information provided is representing the company’s view based on its report.\n",
    "7. Scrutinize whether the report is grounded in quantifiable , concrete data or vague , unverifiable statements , and communicate your\n",
    "findings.\n",
    "8. Start your answer with a \"[[YES]]\"\" or \"\"[[NO]]\n",
    "\"\" depending on whether you would answer the question with a yes or no. Always compliment your judgment on yes or no with a short explanation that summarizes the sources in an\n",
    "informative way, i.e. provide details.\n",
    "Format your answer in JSON format with the two keys: ANSWER (this should contain your answer\n",
    "string without sources), and SOURCES (this should be a list of the SOURCE numbers that were referenced in your answer).\n",
    "Your FINAL_ANSWER in JSON (ensure there’s no format error):\n",
    "\"\"\""
   ]
  },
  {
   "cell_type": "code",
   "execution_count": 42,
   "metadata": {},
   "outputs": [
    {
     "data": {
      "text/html": [
       "\n",
       "            <h3>Output:</h3>\n",
       "            <p>[[YES]]\"NATO countries are increasingly using AI in their militaries for various purposes, including:</p><p></p><p>* Improving cyber defence operations</p><p>* Intelligent automation of cyber defence incident management</p><p>* Secure, robust, frugal, resilient, and explainable solutions in defence applications</p><p>* Frugal and robust AI for defence advanced intelligence</p><p>* Convoy operations with manned-unmanned systems</p><p>* AI-based language technology development framework for defence applications</p><p>* Hydrogen battlefield reconnaissance and intelligence drone</p><p>* Highly automated swarm of affordable ISR long endurance UAVs for force protection</p><p>* Proactive automatic imagery intelligence powered by artificial intelligence exploiting European space assets</p><p></p><p>These uses are mentioned in the report as part of various projects selected from the European Defence Fund 2021 call for proposals.</p><p></p><p>ANSWER: \"NATO countries are increasingly using AI in their militaries for a range of purposes, including improving cyber defence operations, intelligent automation, and secure solutions in defence applications.\"</p><p></p><p>SOURCES: [3], [13]</p>\n",
       "            "
      ],
      "text/plain": [
       "<IPython.core.display.HTML object>"
      ]
     },
     "metadata": {},
     "output_type": "display_data"
    }
   ],
   "source": [
    "answer = get_model_response(prompt_template)\n",
    "visualize(answer)"
   ]
  }
 ],
 "metadata": {
  "kernelspec": {
   "display_name": "base",
   "language": "python",
   "name": "python3"
  },
  "language_info": {
   "codemirror_mode": {
    "name": "ipython",
    "version": 3
   },
   "file_extension": ".py",
   "mimetype": "text/x-python",
   "name": "python",
   "nbconvert_exporter": "python",
   "pygments_lexer": "ipython3",
   "version": "3.10.13"
  }
 },
 "nbformat": 4,
 "nbformat_minor": 2
}
